{
 "cells": [
  {
   "cell_type": "markdown",
   "metadata": {},
   "source": [
    "# Functions, Scoping, Data Collections 1 & List Comprehensions"
   ]
  },
  {
   "cell_type": "markdown",
   "metadata": {},
   "source": [
    "## Tasks Today:\n",
    "\n",
    "<i>Monday Additions (for loops)</i>\n",
    "\n",
    "1) For Loops <br>\n",
    " &nbsp;&nbsp;&nbsp;&nbsp; a) Using 'in' keyword <br>\n",
    " &nbsp;&nbsp;&nbsp;&nbsp; b) Continue Statement <br>\n",
    " &nbsp;&nbsp;&nbsp;&nbsp; c) Break Statement <br>\n",
    " &nbsp;&nbsp;&nbsp;&nbsp; d) Pass Statement <br>\n",
    " &nbsp;&nbsp;&nbsp;&nbsp; e) Double For Loops <br>\n",
    "2) While Loops <br>\n",
    " &nbsp;&nbsp;&nbsp;&nbsp; a) Looping 'While True' <br>\n",
    " &nbsp;&nbsp;&nbsp;&nbsp; b) While and For Loops Used Together <br>\n",
    " \n",
    "3) Lists <br>\n",
    " &nbsp;&nbsp;&nbsp;&nbsp; a) Declaring Lists <br>\n",
    " &nbsp;&nbsp;&nbsp;&nbsp; b) Indexing a List <br>\n",
    " &nbsp;&nbsp;&nbsp;&nbsp; c) .append() <br>\n",
    " &nbsp;&nbsp;&nbsp;&nbsp; d) .insert() <br>\n",
    " &nbsp;&nbsp;&nbsp;&nbsp; e) .pop() <br>\n",
    " &nbsp;&nbsp;&nbsp;&nbsp; f) .remove() <br>\n",
    " &nbsp;&nbsp;&nbsp;&nbsp; g) del() <br>\n",
    " &nbsp;&nbsp;&nbsp;&nbsp; h) Concatenating Two Lists <br>\n",
    " &nbsp;&nbsp;&nbsp;&nbsp; i) Lists Within Lists <br>\n",
    " &nbsp;&nbsp;&nbsp;&nbsp; j) Looping Through Lists <br>\n",
    "4) Working With Lists <br>\n",
    " &nbsp;&nbsp;&nbsp;&nbsp; a) min() <br>\n",
    " &nbsp;&nbsp;&nbsp;&nbsp; b) max() <br>\n",
    " &nbsp;&nbsp;&nbsp;&nbsp; c) sum() <br>\n",
    " &nbsp;&nbsp;&nbsp;&nbsp; d) sort() <br>\n",
    " &nbsp;&nbsp;&nbsp;&nbsp; e) Copying a List <br>\n",
    " &nbsp;&nbsp;&nbsp;&nbsp; f) 'in' keyword <br>\n",
    " &nbsp;&nbsp;&nbsp;&nbsp; g) 'not in' keyword <br>\n",
    " &nbsp;&nbsp;&nbsp;&nbsp; i) Checking an Empty List <br>\n",
    " &nbsp;&nbsp;&nbsp;&nbsp; j) Removing Instances with a Loop <br> \n",
    "5) List Comprehensions <br>\n",
    "6) Tuples <br>\n",
    " &nbsp;&nbsp;&nbsp;&nbsp; a) sorted() <br>\n"
   ]
  },
  {
   "cell_type": "markdown",
   "metadata": {},
   "source": [
    "### For Loops"
   ]
  },
  {
   "cell_type": "markdown",
   "metadata": {},
   "source": [
    "##### .lstrip()"
   ]
  },
  {
   "cell_type": "code",
   "execution_count": null,
   "metadata": {},
   "outputs": [],
   "source": [
    "#for keyword, counter, in keyword, condition\n",
    "\n",
    "name= \" Ryan Rhoades\"\n",
    "print(name)\n",
    "\n",
    "new_name = name.lstrip()\n",
    "print(new_name)"
   ]
  },
  {
   "cell_type": "code",
   "execution_count": null,
   "metadata": {},
   "outputs": [],
   "source": [
    "#.rdtrip() removes whitespace from right side\n",
    "\n",
    "name2 = \"Alex Swiggum \"\n",
    "print(name2)\n",
    "\n",
    "new_name2 = name2.rstrip()\n",
    "print(new_name2)"
   ]
  },
  {
   "cell_type": "code",
   "execution_count": 1,
   "metadata": {},
   "outputs": [
    {
     "name": "stdout",
     "output_type": "stream",
     "text": [
      " Luke Skywalker \n",
      "Luke Skywalker\n"
     ]
    }
   ],
   "source": [
    "#.strip()\n",
    "\n",
    "name3 = \" Luke Skywalker \"\n",
    "print(name3)\n",
    "new_name3 = name3.strip()\n",
    "print(new_name3)"
   ]
  },
  {
   "cell_type": "code",
   "execution_count": 2,
   "metadata": {},
   "outputs": [
    {
     "name": "stdout",
     "output_type": "stream",
     "text": [
      "Megan Man\n"
     ]
    }
   ],
   "source": [
    "name4 = \" Megan Man\"\n",
    "new_name4 = name4.lstrip()\n",
    "print(new_name4)"
   ]
  },
  {
   "cell_type": "markdown",
   "metadata": {},
   "source": [
    "##### Using 'in' keyword"
   ]
  },
  {
   "cell_type": "code",
   "execution_count": 3,
   "metadata": {},
   "outputs": [
    {
     "name": "stdout",
     "output_type": "stream",
     "text": [
      "Ryan\n",
      "Alex\n",
      "Samad\n",
      "Julia\n",
      "Dylan\n"
     ]
    }
   ],
   "source": [
    "name_list = [\"Ryan\", \"Alex\", \"Samad\", \"Chris\", \"Julia\", \"Dylan\"]\n",
    "\n",
    "for name in name_list:\n",
    "    if \"a\" in name.lower():\n",
    "        print(name)"
   ]
  },
  {
   "cell_type": "markdown",
   "metadata": {},
   "source": [
    "##### Continue Statement"
   ]
  },
  {
   "cell_type": "code",
   "execution_count": 4,
   "metadata": {},
   "outputs": [
    {
     "name": "stdout",
     "output_type": "stream",
     "text": [
      "Chris\n"
     ]
    }
   ],
   "source": [
    "for name in name_list:\n",
    "    if \"a\" in name.lower():\n",
    "        continue\n",
    "    print(name)"
   ]
  },
  {
   "cell_type": "code",
   "execution_count": 10,
   "metadata": {},
   "outputs": [
    {
     "name": "stdout",
     "output_type": "stream",
     "text": [
      "Ryan\n",
      "Alex\n"
     ]
    }
   ],
   "source": [
    "for name in name_list:\n",
    "    if \"e\" in name.lower():\n",
    "        print(name)\n",
    "    elif \"m\" in name.lower():\n",
    "        break\n",
    "    else:\n",
    "        print(name)\n"
   ]
  },
  {
   "cell_type": "markdown",
   "metadata": {},
   "source": [
    "##### Break Statement"
   ]
  },
  {
   "cell_type": "code",
   "execution_count": 11,
   "metadata": {},
   "outputs": [
    {
     "name": "stdout",
     "output_type": "stream",
     "text": [
      "Ryan\n",
      "Alex\n",
      "Samad\n"
     ]
    }
   ],
   "source": [
    "# will break out of current loop\n",
    "\n",
    "for name in name_list:\n",
    "    if \"i\" in name.lower():\n",
    "        break\n",
    "    else:\n",
    "        print(name)"
   ]
  },
  {
   "cell_type": "code",
   "execution_count": 12,
   "metadata": {},
   "outputs": [
    {
     "name": "stdout",
     "output_type": "stream",
     "text": [
      "0\n",
      "1\n",
      "2\n",
      "3\n",
      "4\n",
      "5\n",
      "6\n"
     ]
    }
   ],
   "source": [
    "counter = 0\n",
    "while True:\n",
    "    print(counter)\n",
    "    counter += 1\n",
    "    if counter == 7:\n",
    "        break"
   ]
  },
  {
   "cell_type": "markdown",
   "metadata": {},
   "source": [
    "##### Pass Statement"
   ]
  },
  {
   "cell_type": "code",
   "execution_count": 13,
   "metadata": {},
   "outputs": [],
   "source": [
    "# mostly used as a placeholder, and will continue on same iteration\n",
    "\n",
    "for name in name_list:\n",
    "    pass #TODO figure out what to do with names"
   ]
  },
  {
   "cell_type": "markdown",
   "metadata": {},
   "source": [
    "##### Double For Loops"
   ]
  },
  {
   "cell_type": "code",
   "execution_count": 14,
   "metadata": {},
   "outputs": [
    {
     "name": "stdout",
     "output_type": "stream",
     "text": [
      "4\n",
      "5\n",
      "4\n",
      "7\n",
      "5\n",
      "7\n"
     ]
    }
   ],
   "source": [
    "num_list = [1, 2, 3, 4, 5, 4, 6, 7, 8, 10, 5, 7]\n",
    "\n",
    "for i in range(len(num_list)):\n",
    "    for j in range(len(num_list)):\n",
    "        if i != j and num_list[i] == num_list[j]:\n",
    "            print(num_list[i])"
   ]
  },
  {
   "cell_type": "code",
   "execution_count": 15,
   "metadata": {},
   "outputs": [
    {
     "name": "stdout",
     "output_type": "stream",
     "text": [
      "\n",
      "First Loop\n",
      "Second Loop\n",
      "\n",
      "First Loop\n",
      "Second Loop\n",
      "Second Loop\n",
      "\n",
      "First Loop\n",
      "Second Loop\n",
      "Second Loop\n",
      "Second Loop\n",
      "\n",
      "First Loop\n",
      "Second Loop\n",
      "Second Loop\n",
      "Second Loop\n",
      "Second Loop\n",
      "\n",
      "First Loop\n",
      "Second Loop\n",
      "Second Loop\n",
      "Second Loop\n",
      "Second Loop\n",
      "Second Loop\n"
     ]
    }
   ],
   "source": [
    "for x in [1,2,3,4,5]:\n",
    "    print(\"\\nFirst Loop\")\n",
    "    for y in list(range(x)):\n",
    "        print(\"Second Loop\")"
   ]
  },
  {
   "cell_type": "markdown",
   "metadata": {},
   "source": [
    "### While Loops"
   ]
  },
  {
   "cell_type": "code",
   "execution_count": 19,
   "metadata": {},
   "outputs": [
    {
     "name": "stdout",
     "output_type": "stream",
     "text": [
      "0\n",
      "1\n",
      "2\n",
      "3\n",
      "4\n",
      "5\n",
      "6\n",
      "7\n",
      "8\n",
      "9\n",
      "\n",
      "\n",
      "0\n",
      "1\n",
      "2\n",
      "3\n",
      "4\n",
      "5\n",
      "6\n"
     ]
    }
   ],
   "source": [
    "#while loop with condition break in while\n",
    "num = 0\n",
    "while num < 10:\n",
    "    print(num)\n",
    "    num += 1\n",
    "    \n",
    "print(\"\\n\")\n",
    " \n",
    "#while loop with break inside of while loop conditional    \n",
    "counter = 0\n",
    "while True:\n",
    "    print(counter)\n",
    "    counter += 1\n",
    "    if counter == 7:\n",
    "        break"
   ]
  },
  {
   "cell_type": "markdown",
   "metadata": {},
   "source": [
    "##### looping 'While True'"
   ]
  },
  {
   "cell_type": "code",
   "execution_count": 20,
   "metadata": {},
   "outputs": [
    {
     "name": "stdout",
     "output_type": "stream",
     "text": [
      "0\n",
      "2\n",
      "4\n",
      "6\n",
      "8\n",
      "10\n",
      "12\n",
      "14\n",
      "16\n",
      "18\n"
     ]
    }
   ],
   "source": [
    "# counter = 0\n",
    "# while True:\n",
    "#     print(counter)\n",
    "#     counter += 1\n",
    "#     if counter == 7:\n",
    "#         break\n",
    "\n",
    "flag = True\n",
    "num = 0\n",
    "while flag:\n",
    "    print(num)\n",
    "    num += 2\n",
    "    if num >= 20:\n",
    "        flag = False"
   ]
  },
  {
   "cell_type": "markdown",
   "metadata": {},
   "source": [
    "##### While & For Loops Used Together"
   ]
  },
  {
   "cell_type": "code",
   "execution_count": 23,
   "metadata": {},
   "outputs": [
    {
     "name": "stdout",
     "output_type": "stream",
     "text": [
      "\n",
      "While Loop Iteration: 1\n",
      "For Loop Iteration:  0\n",
      "For Loop Iteration:  1\n",
      "For Loop Iteration:  2\n",
      "\n",
      "While Loop Iteration: 2\n",
      "For Loop Iteration:  0\n",
      "For Loop Iteration:  1\n",
      "For Loop Iteration:  2\n",
      "\n",
      "While Loop Iteration: 3\n",
      "For Loop Iteration:  0\n",
      "For Loop Iteration:  1\n",
      "For Loop Iteration:  2\n",
      "\n",
      "While Loop Iteration: 4\n",
      "For Loop Iteration:  0\n",
      "For Loop Iteration:  1\n",
      "For Loop Iteration:  2\n"
     ]
    }
   ],
   "source": [
    "num = 1\n",
    "\n",
    "while num<5:\n",
    "    print(\"\\nWhile Loop Iteration: \" + str(num))\n",
    "    \n",
    "    for i in range(3):\n",
    "        print(\"For Loop Iteration: \", str(i))\n",
    "    num += 1"
   ]
  },
  {
   "cell_type": "markdown",
   "metadata": {},
   "source": [
    "##### The Range Function"
   ]
  },
  {
   "cell_type": "code",
   "execution_count": 24,
   "metadata": {},
   "outputs": [
    {
     "name": "stdout",
     "output_type": "stream",
     "text": [
      "2\n",
      "4\n",
      "6\n",
      "8\n",
      "10\n",
      "12\n",
      "14\n",
      "16\n",
      "18\n"
     ]
    }
   ],
   "source": [
    "#start, stop, step \n",
    "\n",
    "for i in range(2,20,2):\n",
    "    print(i)"
   ]
  },
  {
   "cell_type": "markdown",
   "metadata": {},
   "source": [
    "### String Manipulation Exercise"
   ]
  },
  {
   "cell_type": "code",
   "execution_count": 21,
   "metadata": {},
   "outputs": [
    {
     "name": "stdout",
     "output_type": "stream",
     "text": [
      "Connor\n",
      "Max\n",
      "Evan\n",
      "Jordan\n"
     ]
    }
   ],
   "source": [
    "names = ['    coNNor', 'max', ' EVan ', 'JORDAN']\n",
    "# HINT: You will need to use a for loop for iteration\n",
    "\n",
    "for name in names:\n",
    "    name = name.strip()\n",
    "    print(name.title())\n",
    "    \n",
    "\n"
   ]
  },
  {
   "cell_type": "markdown",
   "metadata": {},
   "source": [
    "## Lists"
   ]
  },
  {
   "cell_type": "markdown",
   "metadata": {},
   "source": [
    "##### Declaring Lists"
   ]
  },
  {
   "cell_type": "code",
   "execution_count": null,
   "metadata": {},
   "outputs": [],
   "source": [
    "l_1 = [] #empty list declaration\n",
    "\n",
    "names = [\"Ryan\", \"Alex\", \"Badar\", \"Samad\", \"Chris\", \"Jason\"]"
   ]
  },
  {
   "cell_type": "markdown",
   "metadata": {},
   "source": [
    "##### Indexing a List"
   ]
  },
  {
   "cell_type": "code",
   "execution_count": null,
   "metadata": {},
   "outputs": [],
   "source": [
    "names = [\"Ryan\", \"Alex\", \"Badar\", \"Samad\", \"Chris\", \"Jason\"]\n",
    "\n",
    "# [start: stop: step]\n",
    "print(names[5])\n",
    "print(names[-1])\n",
    "\n",
    "#Print items starting at index 1 and going to the end\n",
    "print(names[1:])\n",
    "\n",
    "#Print at the beginning and go to the nth index\n",
    "print(names[:2])\n",
    "\n",
    "#Print starting at index 1 and going up by 2 each time\n",
    "print(names[1::2])\n",
    "\n",
    "#Print starting at the back of the list and go in reverse\n",
    "print(names[::-1])\n",
    "names_copy = names[::-1]\n",
    "print(names_copy)\n",
    "for name in names_copy:\n",
    "    print(name)"
   ]
  },
  {
   "cell_type": "markdown",
   "metadata": {},
   "source": [
    "### List Methods"
   ]
  },
  {
   "cell_type": "markdown",
   "metadata": {},
   "source": [
    "##### .append()"
   ]
  },
  {
   "cell_type": "code",
   "execution_count": null,
   "metadata": {},
   "outputs": [],
   "source": [
    "names_list = ['Ash', 'Brock', 'Misty', 'Gary']\n",
    "\n",
    "names_list.append('FartHead')\n",
    "print(names_list)"
   ]
  },
  {
   "cell_type": "markdown",
   "metadata": {},
   "source": [
    "##### .insert()"
   ]
  },
  {
   "cell_type": "code",
   "execution_count": null,
   "metadata": {},
   "outputs": [],
   "source": [
    "names_list.insert(3, \"Professor Oak\")\n",
    "print(names_list)"
   ]
  },
  {
   "cell_type": "markdown",
   "metadata": {},
   "source": [
    "##### .pop()"
   ]
  },
  {
   "cell_type": "code",
   "execution_count": null,
   "metadata": {},
   "outputs": [],
   "source": [
    "# default is the last value if no parameter is given\n",
    "# pop returns the element that was removed in case you want to assign it into a variable \n",
    "\n",
    "popped_names = names_list.pop()\n",
    "print(popped_names)\n",
    "print(names_list)"
   ]
  },
  {
   "cell_type": "markdown",
   "metadata": {},
   "source": [
    "##### .remove()"
   ]
  },
  {
   "cell_type": "code",
   "execution_count": null,
   "metadata": {},
   "outputs": [],
   "source": [
    "# value to be removed, not an index\n",
    "\n",
    "names_list.remove(\"Professor Oak\")\n",
    "print(names_list)"
   ]
  },
  {
   "cell_type": "markdown",
   "metadata": {},
   "source": [
    "### Working With Lists"
   ]
  },
  {
   "cell_type": "markdown",
   "metadata": {},
   "source": [
    "##### del()"
   ]
  },
  {
   "cell_type": "code",
   "execution_count": null,
   "metadata": {},
   "outputs": [],
   "source": [
    "# index to be removed, not value \n",
    "# BE CAREFUL with del, can cause an indexing error if not used carefully\n",
    "\n",
    "del(names_list[3])\n",
    "print(names_list)"
   ]
  },
  {
   "cell_type": "markdown",
   "metadata": {},
   "source": [
    "##### min()"
   ]
  },
  {
   "cell_type": "code",
   "execution_count": null,
   "metadata": {},
   "outputs": [],
   "source": [
    "num_list = [2, 5, 6, 3, 15, 0]\n",
    "\n",
    "min_list = min(num_list)\n",
    "print(min_list)\n",
    "print(min(num_list))"
   ]
  },
  {
   "cell_type": "markdown",
   "metadata": {},
   "source": [
    "##### max()"
   ]
  },
  {
   "cell_type": "code",
   "execution_count": null,
   "metadata": {},
   "outputs": [],
   "source": [
    "num_list = [2, 5, 6, 3, 15, 0]\n",
    "\n",
    "max_list = max(num_list)\n",
    "print(max_list)"
   ]
  },
  {
   "cell_type": "markdown",
   "metadata": {},
   "source": [
    "##### sum()"
   ]
  },
  {
   "cell_type": "code",
   "execution_count": null,
   "metadata": {},
   "outputs": [],
   "source": [
    "num_list = [2, 5, 6, 3, 15, 0]\n",
    "\n",
    "print(sum(num_list))\n",
    "\n",
    "sum_list = sum(num_list)\n",
    "print(sum_list)"
   ]
  },
  {
   "cell_type": "markdown",
   "metadata": {},
   "source": [
    "##### sorted()"
   ]
  },
  {
   "cell_type": "code",
   "execution_count": null,
   "metadata": {},
   "outputs": [],
   "source": [
    "num_list = [2, 5, 6, 3, 15, 0]\n",
    "\n",
    "sorted_list = sorted(num_list)\n",
    "print(sorted_list)\n",
    "\n",
    "print(sorted(num_list))"
   ]
  },
  {
   "cell_type": "markdown",
   "metadata": {},
   "source": [
    "##### .sort() <br>\n",
    "<p>Difference between sort and sorted, is that sorted doesn't change original list it returns a copy, while .sort changes the original list</p>"
   ]
  },
  {
   "cell_type": "code",
   "execution_count": null,
   "metadata": {},
   "outputs": [],
   "source": [
    "num_list = [2, 5, 6, 3, 15, 0]\n",
    "\n",
    "num_list.sort()\n",
    "print(num_list)\n",
    "\n",
    "# print(num_list.sort())"
   ]
  },
  {
   "cell_type": "markdown",
   "metadata": {},
   "source": [
    "##### Copying a List"
   ]
  },
  {
   "cell_type": "code",
   "execution_count": null,
   "metadata": {},
   "outputs": [],
   "source": [
    "# [:] copies a list, doesn't alter original'\n",
    "num_list = [2, 5, 6, 3, 15, 0]\n",
    "\n",
    "list2 = num_list[:]\n",
    "print(f\"Original list: {num_list}\")\n",
    "print(f\"Copy list: {list2}\")\n",
    "\n",
    "copy_list2 = num_list.copy()\n",
    "print(f\"Copy list 2: {copy_list2}\")"
   ]
  },
  {
   "cell_type": "markdown",
   "metadata": {},
   "source": [
    "##### Looping Through Lists"
   ]
  },
  {
   "cell_type": "code",
   "execution_count": null,
   "metadata": {},
   "outputs": [],
   "source": [
    "#you can loop by value or by index\n",
    "num_list = [2, 5, 6, 3, 15, 0]\n",
    "\n",
    "for num in num_list:\n",
    "    print(num)\n",
    "print(\"\\n\")\n",
    "for i in range(len(num_list)):\n",
    "    print(i, num_list[i])\n",
    "    \n",
    "print(\"\\n\")\n",
    "    \n",
    "for i, v in enumerate(num_list):\n",
    "    print(i,v)"
   ]
  },
  {
   "cell_type": "markdown",
   "metadata": {},
   "source": [
    "##### 'in' keyword"
   ]
  },
  {
   "cell_type": "code",
   "execution_count": null,
   "metadata": {},
   "outputs": [],
   "source": [
    "trainer_list = ['Ash', 'Brock', 'Misty', 'Gary']\n",
    "gym_leader_list = ['Brock', 'Misty', \"Lt. Surge\", \"Koga\", \"Giovanni\", \"Erika\"]\n",
    "\n",
    "for trainer in trainer_list:\n",
    "    if trainer in gym_leader_list:\n",
    "        print(trainer)"
   ]
  },
  {
   "cell_type": "code",
   "execution_count": null,
   "metadata": {},
   "outputs": [],
   "source": []
  },
  {
   "cell_type": "markdown",
   "metadata": {},
   "source": [
    "##### 'not in' keyword"
   ]
  },
  {
   "cell_type": "code",
   "execution_count": null,
   "metadata": {},
   "outputs": [],
   "source": [
    "trainer_list = ['Ash', 'Brock', 'Misty', 'Gary']\n",
    "gym_leader_list = ['Brock', 'Misty', \"Lt. Surge\", \"Koga\", \"Giovanni\", \"Erika\"]\n",
    "\n",
    "for trainer in trainer_list:\n",
    "    if trainer not in gym_leader_list:\n",
    "        print(f\"{trainer} is on the road to Viridian City\")"
   ]
  },
  {
   "cell_type": "markdown",
   "metadata": {},
   "source": [
    "##### Checking an Empty List"
   ]
  },
  {
   "cell_type": "code",
   "execution_count": null,
   "metadata": {},
   "outputs": [],
   "source": [
    "l_2=[]\n",
    "if l_2 == []:\n",
    "    print(\"That is an empty list, my dude\")\n",
    "else:\n",
    "    print(\"There is stuff in that list, my dude\")\n",
    "    \n",
    "l_3 = [1,2,3]\n",
    "\n",
    "# if l_3:              if l_3 != []: #shorthand is on the left\n",
    "    for num in l_3:\n",
    "        print(num)\n",
    "else:\n",
    "    print(\"That list is empty and you can't loop\")"
   ]
  },
  {
   "cell_type": "markdown",
   "metadata": {},
   "source": [
    "##### Removing Instances with a Loop"
   ]
  },
  {
   "cell_type": "code",
   "execution_count": null,
   "metadata": {},
   "outputs": [],
   "source": [
    "gym_leader_list = ['Brock', 'Misty', \"Lt. Surge\", \"Koga\", \"Giovanni\", \"Erika\"]\n",
    "\n",
    "while \"Koga\" in gym_leader_list:\n",
    "    gym_leader_list.remove(\"Koga\")\n",
    "print(gym_leader_list)\n",
    "\n",
    "\n",
    "while len(gym_leader_list) >= 2:\n",
    "    gym_leader_list.pop()\n",
    "print(gym_leader_list)\n",
    "\n",
    "#Careful with removing with for loop, becuase the content of the list\n",
    "#shift to the left\n",
    "for leader in gym_leader_list:\n",
    "    if leader == \"Giovanni\":\n",
    "        gym_leader_list.remove(leader)\n",
    "    print(gym_leader_list)"
   ]
  },
  {
   "cell_type": "markdown",
   "metadata": {},
   "source": [
    "### List Exercise <br>\n",
    "<p>Remove all duplicates<br><b>Extra: Create a program that will remove any duplicates from a given list</b></p>"
   ]
  },
  {
   "cell_type": "code",
   "execution_count": null,
   "metadata": {},
   "outputs": [],
   "source": [
    "names = ['connor', 'connor', 'bob', 'connor', 'evan', 'max', 'evan', 2, 2, 2, 3, 3, 4, 'bob', 'kevin']\n",
    "# Hint 1: You will need an append\n",
    "# Hint 2: Using an empty list will make life easier\n",
    "\n",
    "# duplicate_names = []\n",
    "# for name in names:\n",
    "#     if name not in duplicate_names:\n",
    "#         duplicate_names.append(name)\n",
    "#         print(duplicate_names)\n",
    "#     else:\n",
    "#         print(f\"{name} already in duplicate_names\")\n",
    "# print(f\"New list after removing dups {duplicate_names}\")\n",
    "\n",
    "#counter is being used for the index so (counter += 1) is moving it to the next index in the list\n",
    "duplicate_names = []\n",
    "counter = 0\n",
    "while counter < len(names):\n",
    "    if names[counter] not in duplicate_names:\n",
    "        duplicate_names.append(names[counter])\n",
    "        print(duplicate_names)\n",
    "    counter += 1\n",
    "print(duplicate_names)\n",
    "print(len(names))"
   ]
  },
  {
   "cell_type": "markdown",
   "metadata": {},
   "source": [
    "### List Comprehensions <br>\n",
    "<p>Creating a quickly generated list to work with<br>*result*  = [*transform*    *iteration*         *filter*     ]</p>"
   ]
  },
  {
   "cell_type": "markdown",
   "metadata": {},
   "source": [
    "##### In a list comprehension we have a few pieces:\n",
    "1. The first is the counter/ variable - IN this the variable is x\n",
    "2. then we have a transform for the variable\n",
    "3. The finale part of a list comp is called the condition\n",
    "\n",
    "```python\n",
    "    [variable, transform, condition]\n",
    "```"
   ]
  },
  {
   "cell_type": "code",
   "execution_count": null,
   "metadata": {
    "scrolled": true
   },
   "outputs": [],
   "source": [
    "#number comprehension\n",
    "#with a regular ole boring, sad, not cool, for loop\n",
    "num = []\n",
    "for i in range(100):\n",
    "    num.append(i)\n",
    "print(num)\n",
    "\n",
    "print(\"\\n\")\n",
    "\n",
    "\n",
    "#with a really cool, not boring, super happy, and radical list comprehension\n",
    "nums_comp = [i for i in range(100)]\n",
    "print(nums_comp)\n",
    "\n",
    "print(\"\\n\")\n",
    "print([i for i in range(100)])"
   ]
  },
  {
   "cell_type": "markdown",
   "metadata": {},
   "source": [
    "There are a few benefits to using List comprehensions. The most obvious would be that we now have shorter code to work with instead of using 3+ lines of code in the for loop variant.\n",
    "\n",
    "Another is an added benefit to memory usage. Since the list's memory is allocated first before adding elements to it, we don't have to resize the list once we add elements to it.\n",
    "\n",
    "Lastly, list comprehensions are considered the \"pythonic\" way to write code by the PEP8 standards (Python Style Guide)"
   ]
  },
  {
   "cell_type": "code",
   "execution_count": null,
   "metadata": {},
   "outputs": [],
   "source": [
    "import this"
   ]
  },
  {
   "cell_type": "code",
   "execution_count": null,
   "metadata": {},
   "outputs": [],
   "source": [
    "#square number comprehension\n",
    "squares = [x**2 for x in range(10)]\n",
    "print(squares)\n",
    "\n",
    "#for loop version\n",
    "squared_nums =[]\n",
    "for x in range(10):\n",
    "    squared_nums.append(x**2)\n",
    "print(\"\\n\")\n",
    "print(squared_nums)"
   ]
  },
  {
   "cell_type": "code",
   "execution_count": null,
   "metadata": {},
   "outputs": [],
   "source": [
    "#string comprehension\n",
    "names = [\"Charmander\", \"Squirtle\", \"Bulbasaur\", \"Cubone\", \"Charizard\", \"Eevee\"]\n",
    "first_letter = [name[0] for name in names]\n",
    "print(first_letter)\n",
    "\n",
    "#for loop version\n",
    "first_letter_list = []\n",
    "for name in names:\n",
    "    first_letter_list.append(name[0])\n",
    "print(first_letter_list)"
   ]
  },
  {
   "cell_type": "code",
   "execution_count": null,
   "metadata": {},
   "outputs": [],
   "source": [
    "#using the \"if\" statement inside of a comprehension\n",
    "#if will always come after the for statement\n",
    "\n",
    "c_names = [c_name for c_name in names if c_name[0] == \"C\"]\n",
    "print(c_names)\n",
    "\n",
    "#for loop version\n",
    "c_list = []\n",
    "for c_name in names:\n",
    "    if c_name[0] == \"C\":\n",
    "        c_list.append(c_name)\n",
    "print(c_list)"
   ]
  },
  {
   "cell_type": "markdown",
   "metadata": {},
   "source": [
    "### Tuples <br>\n",
    "<p><b>Defined as an immutable list</b></p><br>Seperated by commas using parenthesis"
   ]
  },
  {
   "cell_type": "code",
   "execution_count": null,
   "metadata": {},
   "outputs": [],
   "source": [
    "tup_1 = 1,2,3 #one way to make a tuple\n",
    "tup_2 = (1,2,3) #another way to create a tuple\n",
    "print(tup_1)\n",
    "print(tup_2)\n",
    "\n",
    "print(tup_1[0])\n",
    "print(len(tup_1))\n",
    "\n",
    "print(\"\\n\")\n",
    "#loop over a tuple\n",
    "for number in tup_1:\n",
    "    print(number)\n",
    "    \n",
    "print(\"\\n\")\n",
    "#looping over a tuple with range(len()) -- by index\n",
    "for i in range(len(tup_1)):\n",
    "    print(tup_1[i])"
   ]
  },
  {
   "cell_type": "markdown",
   "metadata": {},
   "source": [
    "##### sorted()"
   ]
  },
  {
   "cell_type": "code",
   "execution_count": null,
   "metadata": {},
   "outputs": [],
   "source": [
    "tup_3 = (20, 5, 1, 3, 9, 45)\n",
    "\n",
    "sorted_tup = sorted(tup_3)\n",
    "print(sorted_tup)\n",
    "\n",
    "random_list = [3, 4, 66, 77, 33]\n",
    "combine_list = sorted_tup + random_list\n",
    "print(combine_list)\n",
    "\n",
    "new_tup = tuple(combine_list)\n",
    "print(new_tup)"
   ]
  },
  {
   "cell_type": "markdown",
   "metadata": {},
   "source": [
    "##### Adding values to a Tuple"
   ]
  },
  {
   "cell_type": "code",
   "execution_count": null,
   "metadata": {},
   "outputs": [],
   "source": [
    "print(tup_1)\n",
    "\n",
    "tup_1 = tup_1 + (5,)\n",
    "print(tup_1)"
   ]
  },
  {
   "cell_type": "markdown",
   "metadata": {},
   "source": [
    "# Exercises"
   ]
  },
  {
   "cell_type": "markdown",
   "metadata": {},
   "source": [
    "## Exercise 1 <br>\n",
    "<p>Using the given list, print out a filtered version of the list with only the numbers that are less than ten</b></i></p><br>\n"
   ]
  },
  {
   "cell_type": "code",
   "execution_count": null,
   "metadata": {},
   "outputs": [],
   "source": [
    "#do this with both list comprehension and for loop\n",
    "\n",
    "#for loop\n",
    "alist = [1,11,14,5,8,9]\n",
    "filtered_list = []\n",
    "for num in alist:\n",
    "    if num <10:\n",
    "        filtered_list.append(num)\n",
    "print(filtered_list)\n",
    "\n",
    "\n",
    "#list comprehension\n",
    "alist = [1,11,14,5,8,9]\n",
    "numbers = [numbers for numbers in alist if numbers<10]\n",
    "print(numbers)\n"
   ]
  },
  {
   "cell_type": "markdown",
   "metadata": {},
   "source": [
    "## Exercise 2 <br>\n",
    "<p>Merge and sort the two lists below<br>\n",
    "<b><i>Hint: You can use the .sort() method</i></b></p>"
   ]
  },
  {
   "cell_type": "code",
   "execution_count": null,
   "metadata": {},
   "outputs": [],
   "source": [
    "l_1 = [1,2,3,4,5,6]\n",
    "l_2 = [3,4,5,6,7,8,10]\n",
    "\n",
    "l_3 = l_1 + l_2 \n",
    "print(sorted(l_3))\n",
    "\n"
   ]
  }
 ],
 "metadata": {
  "kernelspec": {
   "display_name": "Python 3 (ipykernel)",
   "language": "python",
   "name": "python3"
  },
  "language_info": {
   "codemirror_mode": {
    "name": "ipython",
    "version": 3
   },
   "file_extension": ".py",
   "mimetype": "text/x-python",
   "name": "python",
   "nbconvert_exporter": "python",
   "pygments_lexer": "ipython3",
   "version": "3.9.12"
  }
 },
 "nbformat": 4,
 "nbformat_minor": 2
}
